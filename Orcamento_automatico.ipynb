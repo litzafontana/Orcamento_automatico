{
 "cells": [
  {
   "cell_type": "markdown",
   "id": "08ff4bb5",
   "metadata": {},
   "source": [
    "# Orçamento automático"
   ]
  },
  {
   "cell_type": "markdown",
   "id": "9552bd0b",
   "metadata": {},
   "source": [
    "## Entrada de dados"
   ]
  },
  {
   "cell_type": "code",
   "execution_count": 1,
   "id": "deed4227",
   "metadata": {},
   "outputs": [
    {
     "name": "stdout",
     "output_type": "stream",
     "text": [
      "Digite a descrição do projeto:Projeto Estrutural\n",
      "Digite o total de horas estimadas:30\n",
      "Digite o valor da hora trabalhada:100\n",
      "Digite o prazo estimado:15\n"
     ]
    },
    {
     "data": {
      "text/plain": [
       "'15'"
      ]
     },
     "execution_count": 1,
     "metadata": {},
     "output_type": "execute_result"
    }
   ],
   "source": [
    "input(\"Digite a descrição do projeto:\")\n",
    "input(\"Digite o total de horas estimadas:\")\n",
    "input(\"Digite o valor da hora trabalhada:\")\n",
    "input(\"Digite o prazo estimado:\")"
   ]
  },
  {
   "cell_type": "markdown",
   "id": "e39c08f4",
   "metadata": {},
   "source": [
    "## Guardando informações do usuário"
   ]
  },
  {
   "cell_type": "code",
   "execution_count": 2,
   "id": "daac2112",
   "metadata": {},
   "outputs": [
    {
     "name": "stdout",
     "output_type": "stream",
     "text": [
      "Digite a descrição do projeto: Projeto Estrutural\n",
      "Digite o total de horas estimadas:30\n",
      "Digite o valor da hora trabalhada:100\n",
      "Digite o prazo estimado:15\n"
     ]
    }
   ],
   "source": [
    "projeto = input(\"Digite a descrição do projeto: \")\n",
    "horas_estimadas = input(\"Digite o total de horas estimadas:\")\n",
    "valor_horas = input(\"Digite o valor da hora trabalhada:\")\n",
    "prazo_estimado = input(\"Digite o prazo estimado:\")"
   ]
  },
  {
   "cell_type": "markdown",
   "id": "4cb8cc8f",
   "metadata": {},
   "source": [
    "## Realizando Cálculos\n"
   ]
  },
  {
   "cell_type": "code",
   "execution_count": 7,
   "id": "8dc5af7d",
   "metadata": {},
   "outputs": [],
   "source": [
    "valor_total = int(horas_estimadas) * int(valor_horas)"
   ]
  },
  {
   "cell_type": "code",
   "execution_count": 8,
   "id": "5fd160b1",
   "metadata": {},
   "outputs": [
    {
     "name": "stdout",
     "output_type": "stream",
     "text": [
      "3000\n"
     ]
    }
   ],
   "source": [
    "print(valor_total)"
   ]
  },
  {
   "cell_type": "markdown",
   "id": "612b4d47",
   "metadata": {},
   "source": [
    "## Gerando o PDF"
   ]
  },
  {
   "cell_type": "code",
   "execution_count": 9,
   "id": "4c3f7eae",
   "metadata": {},
   "outputs": [],
   "source": [
    "from fpdf import FPDF"
   ]
  },
  {
   "cell_type": "code",
   "execution_count": 10,
   "id": "64aabf24",
   "metadata": {},
   "outputs": [
    {
     "name": "stdout",
     "output_type": "stream",
     "text": [
      "Orçamento gerado com sucesso!\n"
     ]
    }
   ],
   "source": [
    "pdf = FPDF()\n",
    "pdf.add_page()\n",
    "pdf.set_font(\"Arial\")\n",
    "\n",
    "pdf.image(\"template.png\", x=0, y=0)\n",
    "pdf.text(115,145, projeto)\n",
    "pdf.text(115,160, horas_estimadas)\n",
    "pdf.text(115,175, valor_horas)\n",
    "pdf.text(115,190, prazo_estimado)\n",
    "pdf.text(115,205, str(valor_total))\n",
    "\n",
    "pdf.output(\"Orçamento.pdf\")\n",
    "print(\"Orçamento gerado com sucesso!\")"
   ]
  },
  {
   "cell_type": "code",
   "execution_count": null,
   "id": "3f3a2b57",
   "metadata": {},
   "outputs": [],
   "source": []
  },
  {
   "cell_type": "code",
   "execution_count": null,
   "id": "c45e4119",
   "metadata": {},
   "outputs": [],
   "source": []
  },
  {
   "cell_type": "code",
   "execution_count": null,
   "id": "544f763f",
   "metadata": {},
   "outputs": [],
   "source": []
  }
 ],
 "metadata": {
  "kernelspec": {
   "display_name": "Python 3 (ipykernel)",
   "language": "python",
   "name": "python3"
  },
  "language_info": {
   "codemirror_mode": {
    "name": "ipython",
    "version": 3
   },
   "file_extension": ".py",
   "mimetype": "text/x-python",
   "name": "python",
   "nbconvert_exporter": "python",
   "pygments_lexer": "ipython3",
   "version": "3.9.13"
  }
 },
 "nbformat": 4,
 "nbformat_minor": 5
}
